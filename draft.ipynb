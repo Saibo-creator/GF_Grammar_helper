{
 "cells": [
  {
   "cell_type": "code",
   "execution_count": 1,
   "id": "13351316",
   "metadata": {
    "ExecuteTime": {
     "end_time": "2023-03-19T15:40:17.304836Z",
     "start_time": "2023-03-19T15:40:16.895550Z"
    }
   },
   "outputs": [
    {
     "name": "stderr",
     "output_type": "stream",
     "text": [
      "None of PyTorch, TensorFlow >= 2.0, or Flax have been found. Models won't be available and only tokenizers, configuration and file/data utilities can be used.\n"
     ]
    }
   ],
   "source": [
    "from trie2grammar import *"
   ]
  },
  {
   "cell_type": "code",
   "execution_count": 2,
   "id": "42253650",
   "metadata": {
    "ExecuteTime": {
     "end_time": "2023-03-19T15:40:26.337695Z",
     "start_time": "2023-03-19T15:40:17.315152Z"
    }
   },
   "outputs": [],
   "source": [
    "rel_trie = entity_num2str(\"./genie-data/small/relation_trie.json\")\n",
    "ent_trie = entity_num2str(\"./genie-data/small/entity_trie.json\")"
   ]
  },
  {
   "cell_type": "code",
   "execution_count": 3,
   "id": "1cc0ca2a",
   "metadata": {
    "ExecuteTime": {
     "end_time": "2023-03-19T15:16:25.510543Z",
     "start_time": "2023-03-19T15:16:25.498877Z"
    }
   },
   "outputs": [
    {
     "data": {
      "text/plain": [
       "['adjacent', 'station']"
      ]
     },
     "execution_count": 3,
     "metadata": {},
     "output_type": "execute_result"
    }
   ],
   "source": [
    "rel_trie[0]"
   ]
  },
  {
   "cell_type": "code",
   "execution_count": 4,
   "id": "ee8bf8b2",
   "metadata": {
    "ExecuteTime": {
     "end_time": "2023-03-19T15:16:25.520842Z",
     "start_time": "2023-03-19T15:16:25.513706Z"
    }
   },
   "outputs": [
    {
     "data": {
      "text/plain": [
       "[\"'\", 's', 'Lands', 'Ze', 'em', 'ag', 'az', 'ijn']"
      ]
     },
     "execution_count": 4,
     "metadata": {},
     "output_type": "execute_result"
    }
   ],
   "source": [
    "ent_trie[0]"
   ]
  },
  {
   "cell_type": "code",
   "execution_count": 5,
   "id": "d4d36d83",
   "metadata": {
    "ExecuteTime": {
     "end_time": "2023-03-19T15:16:28.182802Z",
     "start_time": "2023-03-19T15:16:25.522843Z"
    }
   },
   "outputs": [],
   "source": [
    "x = get_lin_for_items(rel_trie, save_path=\"relations.txt\")\n",
    "x = get_lin_for_items(ent_trie, save_path=\"entities.txt\")"
   ]
  },
  {
   "cell_type": "code",
   "execution_count": 6,
   "id": "b2a2c595",
   "metadata": {
    "ExecuteTime": {
     "end_time": "2023-03-19T15:16:33.243355Z",
     "start_time": "2023-03-19T15:16:28.207494Z"
    }
   },
   "outputs": [],
   "source": [
    "generate_abs_grammar(rel_trie,ent_trie, \"Genie.gf\" );\n",
    "generate_crt_grammar(rel_trie,ent_trie, \"GenieBart.gf\" );"
   ]
  },
  {
   "cell_type": "code",
   "execution_count": null,
   "id": "c6c98c0f",
   "metadata": {},
   "outputs": [],
   "source": []
  },
  {
   "cell_type": "code",
   "execution_count": 4,
   "id": "cbe4c530",
   "metadata": {
    "ExecuteTime": {
     "end_time": "2023-03-19T08:40:38.477498Z",
     "start_time": "2023-03-19T08:40:37.598873Z"
    }
   },
   "outputs": [],
   "source": [
    "tokenizer = transformers.BartTokenizer.from_pretrained('martinjosifoski/genie-rw')\n",
    "\n"
   ]
  },
  {
   "cell_type": "code",
   "execution_count": 4,
   "id": "d0a66900",
   "metadata": {
    "ExecuteTime": {
     "end_time": "2023-03-17T16:48:09.381598Z",
     "start_time": "2023-03-17T16:48:09.375161Z"
    }
   },
   "outputs": [
    {
     "data": {
      "text/plain": [
       "'adjacent'"
      ]
     },
     "execution_count": 4,
     "metadata": {},
     "output_type": "execute_result"
    }
   ],
   "source": [
    "tokenizer.decode(trie[0][0]).strip()"
   ]
  },
  {
   "cell_type": "code",
   "execution_count": 10,
   "id": "67ed8771",
   "metadata": {
    "ExecuteTime": {
     "end_time": "2023-03-17T16:52:15.064746Z",
     "start_time": "2023-03-17T16:52:15.055475Z"
    }
   },
   "outputs": [
    {
     "data": {
      "text/plain": [
       "'adjacent_station'"
      ]
     },
     "execution_count": 10,
     "metadata": {},
     "output_type": "execute_result"
    }
   ],
   "source": [
    "tokenizer.decode(trie[0]).strip().replace(\"</s>\", \"\").replace(\" \", \"_\")"
   ]
  },
  {
   "cell_type": "code",
   "execution_count": 3,
   "id": "ee9d189e",
   "metadata": {
    "ExecuteTime": {
     "end_time": "2023-03-19T08:36:21.321793Z",
     "start_time": "2023-03-19T08:36:21.319613Z"
    }
   },
   "outputs": [],
   "source": [
    "# save_as_tokens(\"./genie-data/small/relation_trie.json\")"
   ]
  },
  {
   "cell_type": "code",
   "execution_count": null,
   "id": "957541da",
   "metadata": {},
   "outputs": [],
   "source": []
  },
  {
   "cell_type": "code",
   "execution_count": null,
   "id": "f25f70c2",
   "metadata": {},
   "outputs": [],
   "source": []
  }
 ],
 "metadata": {
  "kernelspec": {
   "display_name": "Python 3 (ipykernel)",
   "language": "python",
   "name": "python3"
  },
  "language_info": {
   "codemirror_mode": {
    "name": "ipython",
    "version": 3
   },
   "file_extension": ".py",
   "mimetype": "text/x-python",
   "name": "python",
   "nbconvert_exporter": "python",
   "pygments_lexer": "ipython3",
   "version": "3.8.16"
  }
 },
 "nbformat": 4,
 "nbformat_minor": 5
}
